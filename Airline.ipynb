{
 "cells": [
  {
   "cell_type": "code",
   "execution_count": 1,
   "id": "5d48e931",
   "metadata": {},
   "outputs": [],
   "source": [
    "import pandas as pd\n",
    "import numpy as np\n",
    "import seaborn as sns\n",
    "from matplotlib import pyplot as plt\n",
    "from sklearn.model_selection import train_test_split\n",
    "from sklearn.preprocessing import StandardScaler,OrdinalEncoder"
   ]
  },
  {
   "cell_type": "code",
   "execution_count": 2,
   "id": "be06f9f1",
   "metadata": {},
   "outputs": [
    {
     "data": {
      "text/html": [
       "<div>\n",
       "<style scoped>\n",
       "    .dataframe tbody tr th:only-of-type {\n",
       "        vertical-align: middle;\n",
       "    }\n",
       "\n",
       "    .dataframe tbody tr th {\n",
       "        vertical-align: top;\n",
       "    }\n",
       "\n",
       "    .dataframe thead th {\n",
       "        text-align: right;\n",
       "    }\n",
       "</style>\n",
       "<table border=\"1\" class=\"dataframe\">\n",
       "  <thead>\n",
       "    <tr style=\"text-align: right;\">\n",
       "      <th></th>\n",
       "      <th>Unnamed: 0</th>\n",
       "      <th>airline</th>\n",
       "      <th>flight</th>\n",
       "      <th>source_city</th>\n",
       "      <th>departure_time</th>\n",
       "      <th>stops</th>\n",
       "      <th>arrival_time</th>\n",
       "      <th>destination_city</th>\n",
       "      <th>class</th>\n",
       "      <th>duration</th>\n",
       "      <th>days_left</th>\n",
       "      <th>price</th>\n",
       "    </tr>\n",
       "  </thead>\n",
       "  <tbody>\n",
       "    <tr>\n",
       "      <th>0</th>\n",
       "      <td>0</td>\n",
       "      <td>SpiceJet</td>\n",
       "      <td>SG-8709</td>\n",
       "      <td>Delhi</td>\n",
       "      <td>Evening</td>\n",
       "      <td>zero</td>\n",
       "      <td>Night</td>\n",
       "      <td>Mumbai</td>\n",
       "      <td>Economy</td>\n",
       "      <td>2.17</td>\n",
       "      <td>1</td>\n",
       "      <td>5953</td>\n",
       "    </tr>\n",
       "    <tr>\n",
       "      <th>1</th>\n",
       "      <td>1</td>\n",
       "      <td>SpiceJet</td>\n",
       "      <td>SG-8157</td>\n",
       "      <td>Delhi</td>\n",
       "      <td>Early_Morning</td>\n",
       "      <td>zero</td>\n",
       "      <td>Morning</td>\n",
       "      <td>Mumbai</td>\n",
       "      <td>Economy</td>\n",
       "      <td>2.33</td>\n",
       "      <td>1</td>\n",
       "      <td>5953</td>\n",
       "    </tr>\n",
       "    <tr>\n",
       "      <th>2</th>\n",
       "      <td>2</td>\n",
       "      <td>AirAsia</td>\n",
       "      <td>I5-764</td>\n",
       "      <td>Delhi</td>\n",
       "      <td>Early_Morning</td>\n",
       "      <td>zero</td>\n",
       "      <td>Early_Morning</td>\n",
       "      <td>Mumbai</td>\n",
       "      <td>Economy</td>\n",
       "      <td>2.17</td>\n",
       "      <td>1</td>\n",
       "      <td>5956</td>\n",
       "    </tr>\n",
       "    <tr>\n",
       "      <th>3</th>\n",
       "      <td>3</td>\n",
       "      <td>Vistara</td>\n",
       "      <td>UK-995</td>\n",
       "      <td>Delhi</td>\n",
       "      <td>Morning</td>\n",
       "      <td>zero</td>\n",
       "      <td>Afternoon</td>\n",
       "      <td>Mumbai</td>\n",
       "      <td>Economy</td>\n",
       "      <td>2.25</td>\n",
       "      <td>1</td>\n",
       "      <td>5955</td>\n",
       "    </tr>\n",
       "    <tr>\n",
       "      <th>4</th>\n",
       "      <td>4</td>\n",
       "      <td>Vistara</td>\n",
       "      <td>UK-963</td>\n",
       "      <td>Delhi</td>\n",
       "      <td>Morning</td>\n",
       "      <td>zero</td>\n",
       "      <td>Morning</td>\n",
       "      <td>Mumbai</td>\n",
       "      <td>Economy</td>\n",
       "      <td>2.33</td>\n",
       "      <td>1</td>\n",
       "      <td>5955</td>\n",
       "    </tr>\n",
       "  </tbody>\n",
       "</table>\n",
       "</div>"
      ],
      "text/plain": [
       "   Unnamed: 0   airline   flight source_city departure_time stops  \\\n",
       "0           0  SpiceJet  SG-8709       Delhi        Evening  zero   \n",
       "1           1  SpiceJet  SG-8157       Delhi  Early_Morning  zero   \n",
       "2           2   AirAsia   I5-764       Delhi  Early_Morning  zero   \n",
       "3           3   Vistara   UK-995       Delhi        Morning  zero   \n",
       "4           4   Vistara   UK-963       Delhi        Morning  zero   \n",
       "\n",
       "    arrival_time destination_city    class  duration  days_left  price  \n",
       "0          Night           Mumbai  Economy      2.17          1   5953  \n",
       "1        Morning           Mumbai  Economy      2.33          1   5953  \n",
       "2  Early_Morning           Mumbai  Economy      2.17          1   5956  \n",
       "3      Afternoon           Mumbai  Economy      2.25          1   5955  \n",
       "4        Morning           Mumbai  Economy      2.33          1   5955  "
      ]
     },
     "execution_count": 2,
     "metadata": {},
     "output_type": "execute_result"
    }
   ],
   "source": [
    "df = pd.read_csv('flight_dataset.csv')\n",
    "df.head()"
   ]
  },
  {
   "cell_type": "code",
   "execution_count": 3,
   "id": "0505cf67",
   "metadata": {},
   "outputs": [],
   "source": [
    "df.drop(columns=['Unnamed: 0'],inplace = True)"
   ]
  },
  {
   "cell_type": "code",
   "execution_count": 4,
   "id": "8fac0010",
   "metadata": {},
   "outputs": [
    {
     "name": "stdout",
     "output_type": "stream",
     "text": [
      "<class 'pandas.core.frame.DataFrame'>\n",
      "RangeIndex: 300153 entries, 0 to 300152\n",
      "Data columns (total 11 columns):\n",
      " #   Column            Non-Null Count   Dtype  \n",
      "---  ------            --------------   -----  \n",
      " 0   airline           300153 non-null  object \n",
      " 1   flight            300153 non-null  object \n",
      " 2   source_city       300153 non-null  object \n",
      " 3   departure_time    300153 non-null  object \n",
      " 4   stops             300153 non-null  object \n",
      " 5   arrival_time      300153 non-null  object \n",
      " 6   destination_city  300153 non-null  object \n",
      " 7   class             300153 non-null  object \n",
      " 8   duration          300153 non-null  float64\n",
      " 9   days_left         300153 non-null  int64  \n",
      " 10  price             300153 non-null  int64  \n",
      "dtypes: float64(1), int64(2), object(8)\n",
      "memory usage: 25.2+ MB\n"
     ]
    }
   ],
   "source": [
    "df.info()"
   ]
  },
  {
   "cell_type": "code",
   "execution_count": 5,
   "id": "c49be6a0",
   "metadata": {},
   "outputs": [
    {
     "data": {
      "text/plain": [
       "array(['SpiceJet', 'AirAsia', 'Vistara', 'GO_FIRST', 'Indigo',\n",
       "       'Air_India'], dtype=object)"
      ]
     },
     "execution_count": 5,
     "metadata": {},
     "output_type": "execute_result"
    }
   ],
   "source": [
    "df['airline'].unique()"
   ]
  },
  {
   "cell_type": "code",
   "execution_count": 6,
   "id": "3b9902fd",
   "metadata": {
    "scrolled": true
   },
   "outputs": [
    {
     "data": {
      "text/plain": [
       "array(['Delhi', 'Mumbai', 'Bangalore', 'Kolkata', 'Hyderabad', 'Chennai'],\n",
       "      dtype=object)"
      ]
     },
     "execution_count": 6,
     "metadata": {},
     "output_type": "execute_result"
    }
   ],
   "source": [
    "df['source_city'].unique()"
   ]
  },
  {
   "cell_type": "code",
   "execution_count": 7,
   "id": "84e3c89a",
   "metadata": {},
   "outputs": [
    {
     "data": {
      "text/plain": [
       "array(['Mumbai', 'Bangalore', 'Kolkata', 'Hyderabad', 'Chennai', 'Delhi'],\n",
       "      dtype=object)"
      ]
     },
     "execution_count": 7,
     "metadata": {},
     "output_type": "execute_result"
    }
   ],
   "source": [
    "df['destination_city'].unique()"
   ]
  },
  {
   "cell_type": "code",
   "execution_count": 8,
   "id": "31df3d8b",
   "metadata": {},
   "outputs": [
    {
     "data": {
      "text/plain": [
       "array(['Evening', 'Early_Morning', 'Morning', 'Afternoon', 'Night',\n",
       "       'Late_Night'], dtype=object)"
      ]
     },
     "execution_count": 8,
     "metadata": {},
     "output_type": "execute_result"
    }
   ],
   "source": [
    "df['departure_time'].unique()"
   ]
  },
  {
   "cell_type": "code",
   "execution_count": 9,
   "id": "d5ebcddc",
   "metadata": {},
   "outputs": [
    {
     "data": {
      "text/plain": [
       "array(['Night', 'Morning', 'Early_Morning', 'Afternoon', 'Evening',\n",
       "       'Late_Night'], dtype=object)"
      ]
     },
     "execution_count": 9,
     "metadata": {},
     "output_type": "execute_result"
    }
   ],
   "source": [
    "df['arrival_time'].unique()"
   ]
  },
  {
   "cell_type": "code",
   "execution_count": 12,
   "id": "d49542ba",
   "metadata": {},
   "outputs": [],
   "source": [
    "df.rename(columns={'class':'Class'},inplace = True)"
   ]
  },
  {
   "cell_type": "code",
   "execution_count": 13,
   "id": "5fc040d5",
   "metadata": {
    "scrolled": true
   },
   "outputs": [
    {
     "data": {
      "text/plain": [
       "Index(['airline', 'flight', 'source_city', 'departure_time', 'stops',\n",
       "       'arrival_time', 'destination_city', 'Class', 'duration', 'days_left',\n",
       "       'price'],\n",
       "      dtype='object')"
      ]
     },
     "execution_count": 13,
     "metadata": {},
     "output_type": "execute_result"
    }
   ],
   "source": [
    "df.columns"
   ]
  },
  {
   "cell_type": "code",
   "execution_count": 14,
   "id": "6fa14105",
   "metadata": {},
   "outputs": [
    {
     "name": "stdout",
     "output_type": "stream",
     "text": [
      "airline                 6\n",
      "flight               1561\n",
      "source_city             6\n",
      "departure_time          6\n",
      "stops                   3\n",
      "arrival_time            6\n",
      "destination_city        6\n",
      "Class                   2\n",
      "duration              476\n",
      "days_left              49\n",
      "price               12157\n",
      "dtype: int64\n"
     ]
    }
   ],
   "source": [
    "print(df.nunique())"
   ]
  },
  {
   "cell_type": "code",
   "execution_count": 15,
   "id": "44989854",
   "metadata": {},
   "outputs": [
    {
     "data": {
      "text/plain": [
       "(300153, 11)"
      ]
     },
     "execution_count": 15,
     "metadata": {},
     "output_type": "execute_result"
    }
   ],
   "source": [
    "df.shape"
   ]
  },
  {
   "cell_type": "code",
   "execution_count": 16,
   "id": "204afd7a",
   "metadata": {},
   "outputs": [
    {
     "data": {
      "text/plain": [
       "0"
      ]
     },
     "execution_count": 16,
     "metadata": {},
     "output_type": "execute_result"
    }
   ],
   "source": [
    "df.duplicated().sum()"
   ]
  },
  {
   "cell_type": "code",
   "execution_count": 17,
   "id": "3a850fd3",
   "metadata": {},
   "outputs": [
    {
     "data": {
      "text/plain": [
       "array([ 1,  2,  3,  4,  5,  6,  7,  8,  9, 10, 11, 12, 13, 14, 15, 16, 17,\n",
       "       18, 19, 20, 21, 22, 23, 24, 25, 26, 27, 28, 29, 30, 31, 32, 33, 34,\n",
       "       35, 36, 37, 38, 39, 40, 41, 42, 43, 44, 45, 46, 47, 48, 49],\n",
       "      dtype=int64)"
      ]
     },
     "execution_count": 17,
     "metadata": {},
     "output_type": "execute_result"
    }
   ],
   "source": [
    "df['days_left'].unique()"
   ]
  },
  {
   "cell_type": "code",
   "execution_count": 18,
   "id": "c3f2b410",
   "metadata": {},
   "outputs": [],
   "source": [
    "mean = df['duration'].mean()"
   ]
  },
  {
   "cell_type": "code",
   "execution_count": 19,
   "id": "848e0a1d",
   "metadata": {},
   "outputs": [],
   "source": [
    "dev = df['duration'].std()"
   ]
  },
  {
   "cell_type": "code",
   "execution_count": 20,
   "id": "30507636",
   "metadata": {},
   "outputs": [],
   "source": [
    "upper = mean + (2*dev)\n",
    "lower = mean - (2*dev)\n",
    "df = df[((df['duration']<upper) & (df['duration']>lower))]"
   ]
  },
  {
   "cell_type": "code",
   "execution_count": 21,
   "id": "f9121213",
   "metadata": {},
   "outputs": [
    {
     "data": {
      "text/plain": [
       "(290311, 11)"
      ]
     },
     "execution_count": 21,
     "metadata": {},
     "output_type": "execute_result"
    }
   ],
   "source": [
    "df.shape"
   ]
  },
  {
   "cell_type": "code",
   "execution_count": 22,
   "id": "2358af67",
   "metadata": {},
   "outputs": [
    {
     "data": {
      "text/plain": [
       "<Axes: >"
      ]
     },
     "execution_count": 22,
     "metadata": {},
     "output_type": "execute_result"
    },
    {
     "data": {
      "image/png": "[encoded data removed]",
      "text/plain": [
       "<Figure size 640x480 with 1 Axes>"
      ]
     },
     "metadata": {},
     "output_type": "display_data"
    }
   ],
   "source": [
    "df['duration'].hist()"
   ]
  },
  {
   "cell_type": "code",
   "execution_count": 23,
   "id": "8360e582",
   "metadata": {},
   "outputs": [
    {
     "data": {
      "text/plain": [
       "<Axes: >"
      ]
     },
     "execution_count": 23,
     "metadata": {},
     "output_type": "execute_result"
    },
    {
     "data": {
      "image/png": "[encoded data removed]",
      "text/plain": [
       "<Figure size 640x480 with 1 Axes>"
      ]
     },
     "metadata": {},
     "output_type": "display_data"
    }
   ],
   "source": [
    "df['duration'] = np.log(df['duration'])\n",
    "df['duration'].hist()"
   ]
  },
  {
   "cell_type": "code",
   "execution_count": 24,
   "id": "186363a4",
   "metadata": {},
   "outputs": [
    {
     "data": {
      "text/plain": [
       "array(['zero', 'one', 'two_or_more'], dtype=object)"
      ]
     },
     "execution_count": 24,
     "metadata": {},
     "output_type": "execute_result"
    }
   ],
   "source": [
    "df['stops'].unique()"
   ]
  },
  {
   "cell_type": "code",
   "execution_count": 25,
   "id": "ebd50f12",
   "metadata": {},
   "outputs": [],
   "source": [
    "df.drop(columns = ['flight'],inplace = True)"
   ]
  },
  {
   "cell_type": "code",
   "execution_count": 26,
   "id": "00fdf11c",
   "metadata": {},
   "outputs": [],
   "source": [
    "df.drop(columns = ['duration'],inplace = True)"
   ]
  },
  {
   "cell_type": "code",
   "execution_count": 27,
   "id": "7b3c8282",
   "metadata": {},
   "outputs": [],
   "source": [
    "X = df.drop(columns = ['price'],axis = 1)\n",
    "y = df['price']"
   ]
  },
  {
   "cell_type": "code",
   "execution_count": 28,
   "id": "196ab2e2",
   "metadata": {},
   "outputs": [],
   "source": [
    "X_train,X_test,y_train,y_test = train_test_split(X,y,test_size = 0.3, random_state = 0)"
   ]
  },
  {
   "cell_type": "code",
   "execution_count": 30,
   "id": "96c8d10e",
   "metadata": {
    "scrolled": true
   },
   "outputs": [],
   "source": [
    "cat_col = df[['airline','source_city', 'departure_time', 'stops',\n",
    "       'arrival_time', 'destination_city', 'Class']]"
   ]
  },
  {
   "cell_type": "code",
   "execution_count": 31,
   "id": "36bf61a4",
   "metadata": {},
   "outputs": [],
   "source": [
    "from sklearn.compose import ColumnTransformer\n",
    "from sklearn.preprocessing import OrdinalEncoder\n",
    "transformer =ColumnTransformer(transformers=[('cat',OrdinalEncoder(),[0,1,2,3,4,5,6])],remainder = 'passthrough')"
   ]
  },
  {
   "cell_type": "code",
   "execution_count": 32,
   "id": "b23d5eb8",
   "metadata": {
    "scrolled": true
   },
   "outputs": [],
   "source": [
    "transformer.fit(X_train)\n",
    "X_train = transformer.transform(X_train)\n",
    "X_test = transformer.transform(X_test)"
   ]
  },
  {
   "cell_type": "code",
   "execution_count": 33,
   "id": "42075fa2",
   "metadata": {},
   "outputs": [],
   "source": [
    "X_train = pd.DataFrame(X_train)"
   ]
  },
  {
   "cell_type": "code",
   "execution_count": 34,
   "id": "661d7447",
   "metadata": {},
   "outputs": [
    {
     "data": {
      "text/html": [
       "<div>\n",
       "<style scoped>\n",
       "    .dataframe tbody tr th:only-of-type {\n",
       "        vertical-align: middle;\n",
       "    }\n",
       "\n",
       "    .dataframe tbody tr th {\n",
       "        vertical-align: top;\n",
       "    }\n",
       "\n",
       "    .dataframe thead th {\n",
       "        text-align: right;\n",
       "    }\n",
       "</style>\n",
       "<table border=\"1\" class=\"dataframe\">\n",
       "  <thead>\n",
       "    <tr style=\"text-align: right;\">\n",
       "      <th></th>\n",
       "      <th>0</th>\n",
       "      <th>1</th>\n",
       "      <th>2</th>\n",
       "      <th>3</th>\n",
       "      <th>4</th>\n",
       "      <th>5</th>\n",
       "      <th>6</th>\n",
       "      <th>7</th>\n",
       "    </tr>\n",
       "  </thead>\n",
       "  <tbody>\n",
       "    <tr>\n",
       "      <th>0</th>\n",
       "      <td>5.0</td>\n",
       "      <td>3.0</td>\n",
       "      <td>5.0</td>\n",
       "      <td>0.0</td>\n",
       "      <td>0.0</td>\n",
       "      <td>5.0</td>\n",
       "      <td>0.0</td>\n",
       "      <td>24.0</td>\n",
       "    </tr>\n",
       "    <tr>\n",
       "      <th>1</th>\n",
       "      <td>5.0</td>\n",
       "      <td>5.0</td>\n",
       "      <td>1.0</td>\n",
       "      <td>0.0</td>\n",
       "      <td>5.0</td>\n",
       "      <td>1.0</td>\n",
       "      <td>1.0</td>\n",
       "      <td>38.0</td>\n",
       "    </tr>\n",
       "    <tr>\n",
       "      <th>2</th>\n",
       "      <td>1.0</td>\n",
       "      <td>4.0</td>\n",
       "      <td>0.0</td>\n",
       "      <td>0.0</td>\n",
       "      <td>5.0</td>\n",
       "      <td>3.0</td>\n",
       "      <td>0.0</td>\n",
       "      <td>4.0</td>\n",
       "    </tr>\n",
       "    <tr>\n",
       "      <th>3</th>\n",
       "      <td>5.0</td>\n",
       "      <td>0.0</td>\n",
       "      <td>4.0</td>\n",
       "      <td>0.0</td>\n",
       "      <td>5.0</td>\n",
       "      <td>5.0</td>\n",
       "      <td>1.0</td>\n",
       "      <td>42.0</td>\n",
       "    </tr>\n",
       "    <tr>\n",
       "      <th>4</th>\n",
       "      <td>0.0</td>\n",
       "      <td>2.0</td>\n",
       "      <td>1.0</td>\n",
       "      <td>0.0</td>\n",
       "      <td>2.0</td>\n",
       "      <td>3.0</td>\n",
       "      <td>1.0</td>\n",
       "      <td>32.0</td>\n",
       "    </tr>\n",
       "    <tr>\n",
       "      <th>...</th>\n",
       "      <td>...</td>\n",
       "      <td>...</td>\n",
       "      <td>...</td>\n",
       "      <td>...</td>\n",
       "      <td>...</td>\n",
       "      <td>...</td>\n",
       "      <td>...</td>\n",
       "      <td>...</td>\n",
       "    </tr>\n",
       "    <tr>\n",
       "      <th>203212</th>\n",
       "      <td>1.0</td>\n",
       "      <td>2.0</td>\n",
       "      <td>1.0</td>\n",
       "      <td>0.0</td>\n",
       "      <td>0.0</td>\n",
       "      <td>4.0</td>\n",
       "      <td>0.0</td>\n",
       "      <td>47.0</td>\n",
       "    </tr>\n",
       "    <tr>\n",
       "      <th>203213</th>\n",
       "      <td>3.0</td>\n",
       "      <td>0.0</td>\n",
       "      <td>2.0</td>\n",
       "      <td>2.0</td>\n",
       "      <td>5.0</td>\n",
       "      <td>2.0</td>\n",
       "      <td>1.0</td>\n",
       "      <td>25.0</td>\n",
       "    </tr>\n",
       "    <tr>\n",
       "      <th>203214</th>\n",
       "      <td>3.0</td>\n",
       "      <td>4.0</td>\n",
       "      <td>0.0</td>\n",
       "      <td>0.0</td>\n",
       "      <td>5.0</td>\n",
       "      <td>2.0</td>\n",
       "      <td>1.0</td>\n",
       "      <td>42.0</td>\n",
       "    </tr>\n",
       "    <tr>\n",
       "      <th>203215</th>\n",
       "      <td>5.0</td>\n",
       "      <td>3.0</td>\n",
       "      <td>5.0</td>\n",
       "      <td>0.0</td>\n",
       "      <td>0.0</td>\n",
       "      <td>2.0</td>\n",
       "      <td>1.0</td>\n",
       "      <td>39.0</td>\n",
       "    </tr>\n",
       "    <tr>\n",
       "      <th>203216</th>\n",
       "      <td>1.0</td>\n",
       "      <td>4.0</td>\n",
       "      <td>1.0</td>\n",
       "      <td>0.0</td>\n",
       "      <td>2.0</td>\n",
       "      <td>2.0</td>\n",
       "      <td>1.0</td>\n",
       "      <td>14.0</td>\n",
       "    </tr>\n",
       "  </tbody>\n",
       "</table>\n",
       "<p>203217 rows × 8 columns</p>\n",
       "</div>"
      ],
      "text/plain": [
       "          0    1    2    3    4    5    6     7\n",
       "0       5.0  3.0  5.0  0.0  0.0  5.0  0.0  24.0\n",
       "1       5.0  5.0  1.0  0.0  5.0  1.0  1.0  38.0\n",
       "2       1.0  4.0  0.0  0.0  5.0  3.0  0.0   4.0\n",
       "3       5.0  0.0  4.0  0.0  5.0  5.0  1.0  42.0\n",
       "4       0.0  2.0  1.0  0.0  2.0  3.0  1.0  32.0\n",
       "...     ...  ...  ...  ...  ...  ...  ...   ...\n",
       "203212  1.0  2.0  1.0  0.0  0.0  4.0  0.0  47.0\n",
       "203213  3.0  0.0  2.0  2.0  5.0  2.0  1.0  25.0\n",
       "203214  3.0  4.0  0.0  0.0  5.0  2.0  1.0  42.0\n",
       "203215  5.0  3.0  5.0  0.0  0.0  2.0  1.0  39.0\n",
       "203216  1.0  4.0  1.0  0.0  2.0  2.0  1.0  14.0\n",
       "\n",
       "[203217 rows x 8 columns]"
      ]
     },
     "execution_count": 34,
     "metadata": {},
     "output_type": "execute_result"
    }
   ],
   "source": [
    "X_train"
   ]
  },
  {
   "cell_type": "code",
   "execution_count": 35,
   "id": "dc196a20",
   "metadata": {
    "scrolled": false
   },
   "outputs": [],
   "source": [
    "X_train['airline'] = X_train[0]\n",
    "X_train['source_city'] = X_train[1]\n",
    "X_train['departure_time'] = X_train[2]\n",
    "X_train['stops'] = X_train[3]\n",
    "X_train['arrival_time'] = X_train[4]\n",
    "X_train['destination_city'] = X_train[5]\n",
    "X_train['class'] = X_train[6]\n",
    "X_train['days_left'] = X_train[7]"
   ]
  },
  {
   "cell_type": "code",
   "execution_count": 36,
   "id": "e852b22a",
   "metadata": {},
   "outputs": [],
   "source": [
    "X_train.drop(columns = [0,1,2,3,4,5,6,7],inplace = True)"
   ]
  },
  {
   "cell_type": "code",
   "execution_count": 37,
   "id": "8ade3c40",
   "metadata": {},
   "outputs": [],
   "source": [
    "X_test = pd.DataFrame(X_test)"
   ]
  },
  {
   "cell_type": "code",
   "execution_count": 38,
   "id": "fbaff2f5",
   "metadata": {},
   "outputs": [
    {
     "data": {
      "text/html": [
       "<div>\n",
       "<style scoped>\n",
       "    .dataframe tbody tr th:only-of-type {\n",
       "        vertical-align: middle;\n",
       "    }\n",
       "\n",
       "    .dataframe tbody tr th {\n",
       "        vertical-align: top;\n",
       "    }\n",
       "\n",
       "    .dataframe thead th {\n",
       "        text-align: right;\n",
       "    }\n",
       "</style>\n",
       "<table border=\"1\" class=\"dataframe\">\n",
       "  <thead>\n",
       "    <tr style=\"text-align: right;\">\n",
       "      <th></th>\n",
       "      <th>0</th>\n",
       "      <th>1</th>\n",
       "      <th>2</th>\n",
       "      <th>3</th>\n",
       "      <th>4</th>\n",
       "      <th>5</th>\n",
       "      <th>6</th>\n",
       "      <th>7</th>\n",
       "    </tr>\n",
       "  </thead>\n",
       "  <tbody>\n",
       "    <tr>\n",
       "      <th>0</th>\n",
       "      <td>1.0</td>\n",
       "      <td>0.0</td>\n",
       "      <td>4.0</td>\n",
       "      <td>0.0</td>\n",
       "      <td>2.0</td>\n",
       "      <td>1.0</td>\n",
       "      <td>0.0</td>\n",
       "      <td>43.0</td>\n",
       "    </tr>\n",
       "    <tr>\n",
       "      <th>1</th>\n",
       "      <td>3.0</td>\n",
       "      <td>1.0</td>\n",
       "      <td>0.0</td>\n",
       "      <td>0.0</td>\n",
       "      <td>2.0</td>\n",
       "      <td>2.0</td>\n",
       "      <td>1.0</td>\n",
       "      <td>19.0</td>\n",
       "    </tr>\n",
       "    <tr>\n",
       "      <th>2</th>\n",
       "      <td>5.0</td>\n",
       "      <td>1.0</td>\n",
       "      <td>4.0</td>\n",
       "      <td>0.0</td>\n",
       "      <td>0.0</td>\n",
       "      <td>2.0</td>\n",
       "      <td>1.0</td>\n",
       "      <td>30.0</td>\n",
       "    </tr>\n",
       "    <tr>\n",
       "      <th>3</th>\n",
       "      <td>1.0</td>\n",
       "      <td>5.0</td>\n",
       "      <td>4.0</td>\n",
       "      <td>0.0</td>\n",
       "      <td>5.0</td>\n",
       "      <td>2.0</td>\n",
       "      <td>0.0</td>\n",
       "      <td>46.0</td>\n",
       "    </tr>\n",
       "    <tr>\n",
       "      <th>4</th>\n",
       "      <td>1.0</td>\n",
       "      <td>2.0</td>\n",
       "      <td>1.0</td>\n",
       "      <td>0.0</td>\n",
       "      <td>5.0</td>\n",
       "      <td>4.0</td>\n",
       "      <td>0.0</td>\n",
       "      <td>46.0</td>\n",
       "    </tr>\n",
       "    <tr>\n",
       "      <th>...</th>\n",
       "      <td>...</td>\n",
       "      <td>...</td>\n",
       "      <td>...</td>\n",
       "      <td>...</td>\n",
       "      <td>...</td>\n",
       "      <td>...</td>\n",
       "      <td>...</td>\n",
       "      <td>...</td>\n",
       "    </tr>\n",
       "    <tr>\n",
       "      <th>87089</th>\n",
       "      <td>5.0</td>\n",
       "      <td>1.0</td>\n",
       "      <td>4.0</td>\n",
       "      <td>0.0</td>\n",
       "      <td>2.0</td>\n",
       "      <td>0.0</td>\n",
       "      <td>0.0</td>\n",
       "      <td>9.0</td>\n",
       "    </tr>\n",
       "    <tr>\n",
       "      <th>87090</th>\n",
       "      <td>5.0</td>\n",
       "      <td>3.0</td>\n",
       "      <td>0.0</td>\n",
       "      <td>0.0</td>\n",
       "      <td>2.0</td>\n",
       "      <td>0.0</td>\n",
       "      <td>0.0</td>\n",
       "      <td>7.0</td>\n",
       "    </tr>\n",
       "    <tr>\n",
       "      <th>87091</th>\n",
       "      <td>3.0</td>\n",
       "      <td>4.0</td>\n",
       "      <td>5.0</td>\n",
       "      <td>2.0</td>\n",
       "      <td>3.0</td>\n",
       "      <td>0.0</td>\n",
       "      <td>1.0</td>\n",
       "      <td>29.0</td>\n",
       "    </tr>\n",
       "    <tr>\n",
       "      <th>87092</th>\n",
       "      <td>5.0</td>\n",
       "      <td>4.0</td>\n",
       "      <td>2.0</td>\n",
       "      <td>0.0</td>\n",
       "      <td>4.0</td>\n",
       "      <td>0.0</td>\n",
       "      <td>1.0</td>\n",
       "      <td>11.0</td>\n",
       "    </tr>\n",
       "    <tr>\n",
       "      <th>87093</th>\n",
       "      <td>5.0</td>\n",
       "      <td>0.0</td>\n",
       "      <td>4.0</td>\n",
       "      <td>0.0</td>\n",
       "      <td>2.0</td>\n",
       "      <td>4.0</td>\n",
       "      <td>0.0</td>\n",
       "      <td>44.0</td>\n",
       "    </tr>\n",
       "  </tbody>\n",
       "</table>\n",
       "<p>87094 rows × 8 columns</p>\n",
       "</div>"
      ],
      "text/plain": [
       "         0    1    2    3    4    5    6     7\n",
       "0      1.0  0.0  4.0  0.0  2.0  1.0  0.0  43.0\n",
       "1      3.0  1.0  0.0  0.0  2.0  2.0  1.0  19.0\n",
       "2      5.0  1.0  4.0  0.0  0.0  2.0  1.0  30.0\n",
       "3      1.0  5.0  4.0  0.0  5.0  2.0  0.0  46.0\n",
       "4      1.0  2.0  1.0  0.0  5.0  4.0  0.0  46.0\n",
       "...    ...  ...  ...  ...  ...  ...  ...   ...\n",
       "87089  5.0  1.0  4.0  0.0  2.0  0.0  0.0   9.0\n",
       "87090  5.0  3.0  0.0  0.0  2.0  0.0  0.0   7.0\n",
       "87091  3.0  4.0  5.0  2.0  3.0  0.0  1.0  29.0\n",
       "87092  5.0  4.0  2.0  0.0  4.0  0.0  1.0  11.0\n",
       "87093  5.0  0.0  4.0  0.0  2.0  4.0  0.0  44.0\n",
       "\n",
       "[87094 rows x 8 columns]"
      ]
     },
     "execution_count": 38,
     "metadata": {},
     "output_type": "execute_result"
    }
   ],
   "source": [
    "X_test"
   ]
  },
  {
   "cell_type": "code",
   "execution_count": 39,
   "id": "01ed3bfb",
   "metadata": {},
   "outputs": [],
   "source": [
    "X_test['airline'] = X_test[0]\n",
    "X_test['source_city'] = X_test[1]\n",
    "X_test['departure_time'] = X_test[2]\n",
    "X_test['stops'] = X_test[3]\n",
    "X_test['arrival_time'] = X_test[4]\n",
    "X_test['destination_city'] = X_test[5]\n",
    "X_test['class'] = X_test[6]\n",
    "X_test['days_left'] = X_test[7]\n",
    "X_test.drop(columns = [0,1,2,3,4,5,6,7],inplace = True)"
   ]
  },
  {
   "cell_type": "code",
   "execution_count": 40,
   "id": "4fa25d92",
   "metadata": {},
   "outputs": [],
   "source": [
    "scaler = StandardScaler()\n",
    "scaler.fit(X_train)\n",
    "X_train = scaler.transform(X_train)\n",
    "X_test = scaler.transform(X_test)"
   ]
  },
  {
   "cell_type": "code",
   "execution_count": 41,
   "id": "324bbbc2",
   "metadata": {},
   "outputs": [
    {
     "data": {
      "text/plain": [
       "array([[ 1.02616079,  0.24185072,  1.46012377, ...,  1.38253196,\n",
       "        -1.48344887, -0.15515674],\n",
       "       [ 1.02616079,  1.38183583, -0.81666098, ..., -0.90701708,\n",
       "         0.6741048 ,  0.88120729],\n",
       "       [-1.16330329,  0.81184328, -1.38585717, ...,  0.23775744,\n",
       "        -1.48344887, -1.63567678],\n",
       "       ...,\n",
       "       [-0.06857125,  0.81184328, -1.38585717, ..., -0.33462982,\n",
       "         0.6741048 ,  1.1773113 ],\n",
       "       [ 1.02616079,  0.24185072,  1.46012377, ..., -0.33462982,\n",
       "         0.6741048 ,  0.95523329],\n",
       "       [-1.16330329,  0.81184328, -0.81666098, ..., -0.33462982,\n",
       "         0.6741048 , -0.89541676]])"
      ]
     },
     "execution_count": 41,
     "metadata": {},
     "output_type": "execute_result"
    }
   ],
   "source": [
    "X_train"
   ]
  },
  {
   "cell_type": "code",
   "execution_count": 42,
   "id": "b365dba1",
   "metadata": {},
   "outputs": [],
   "source": [
    "X_train = pd.DataFrame(X_train)"
   ]
  },
  {
   "cell_type": "code",
   "execution_count": 43,
   "id": "9ce9bc0a",
   "metadata": {},
   "outputs": [
    {
     "data": {
      "text/plain": [
       "array([[-1.16330329, -1.46812694,  0.89092759, ..., -0.90701708,\n",
       "        -1.48344887,  1.2513373 ],\n",
       "       [-0.06857125, -0.89813439, -1.38585717, ..., -0.33462982,\n",
       "         0.6741048 , -0.52528675],\n",
       "       [ 1.02616079, -0.89813439,  0.89092759, ..., -0.33462982,\n",
       "         0.6741048 ,  0.28899927],\n",
       "       ...,\n",
       "       [-0.06857125,  0.81184328,  1.46012377, ..., -1.47940434,\n",
       "         0.6741048 ,  0.21497327],\n",
       "       [ 1.02616079,  0.81184328, -0.24746479, ..., -1.47940434,\n",
       "         0.6741048 , -1.11749477],\n",
       "       [ 1.02616079, -1.46812694,  0.89092759, ...,  0.8101447 ,\n",
       "        -1.48344887,  1.3253633 ]])"
      ]
     },
     "execution_count": 43,
     "metadata": {},
     "output_type": "execute_result"
    }
   ],
   "source": [
    "X_test"
   ]
  },
  {
   "cell_type": "code",
   "execution_count": 44,
   "id": "96cb127f",
   "metadata": {},
   "outputs": [],
   "source": [
    "X_test = pd.DataFrame(X_test)"
   ]
  },
  {
   "cell_type": "code",
   "execution_count": 45,
   "id": "cda25620",
   "metadata": {},
   "outputs": [],
   "source": [
    "from sklearn.linear_model import LinearRegression"
   ]
  },
  {
   "cell_type": "code",
   "execution_count": 46,
   "id": "d099cd4d",
   "metadata": {},
   "outputs": [],
   "source": [
    "model = LinearRegression()\n",
    "model.fit(X_train,y_train)\n",
    "prediction = model.predict(X_test)"
   ]
  },
  {
   "cell_type": "code",
   "execution_count": 47,
   "id": "255b4600",
   "metadata": {},
   "outputs": [],
   "source": [
    "from sklearn.metrics import mean_squared_error as MSE"
   ]
  },
  {
   "cell_type": "code",
   "execution_count": 48,
   "id": "8bd8f8dc",
   "metadata": {},
   "outputs": [
    {
     "name": "stdout",
     "output_type": "stream",
     "text": [
      "48723097.78323286\n"
     ]
    }
   ],
   "source": [
    "print(MSE(y_test,prediction))"
   ]
  },
  {
   "cell_type": "code",
   "execution_count": 49,
   "id": "48e9b000",
   "metadata": {},
   "outputs": [],
   "source": [
    "from sklearn.metrics import r2_score"
   ]
  },
  {
   "cell_type": "code",
   "execution_count": 50,
   "id": "10eab90e",
   "metadata": {},
   "outputs": [
    {
     "name": "stdout",
     "output_type": "stream",
     "text": [
      "0.9058999477748275\n"
     ]
    }
   ],
   "source": [
    "print(r2_score(y_test,prediction))"
   ]
  },
  {
   "cell_type": "code",
   "execution_count": 51,
   "id": "9eee1dc9",
   "metadata": {},
   "outputs": [],
   "source": [
    "from sklearn.ensemble import RandomForestRegressor"
   ]
  },
  {
   "cell_type": "code",
   "execution_count": 52,
   "id": "63c1ee9f",
   "metadata": {},
   "outputs": [],
   "source": [
    "rf = RandomForestRegressor()\n",
    "from sklearn.model_selection import GridSearchCV\n",
    "reg = GridSearchCV(rf,{'n_estimators':[10,15,20],'criterion':['friedman_mse', 'squared_error', 'poisson']},cv = 5,return_train_score = False)"
   ]
  },
  {
   "cell_type": "code",
   "execution_count": 53,
   "id": "80e2af55",
   "metadata": {
    "scrolled": true
   },
   "outputs": [
    {
     "data": {
      "text/plain": [
       "{'mean_fit_time': array([ 5.22788348,  7.61468501, 10.30515347,  4.93819518,  6.87559738,\n",
       "         9.58204784,  6.17422433,  8.3178514 , 12.42274418]),\n",
       " 'std_fit_time': array([0.22328694, 0.68823252, 1.13520504, 0.21716871, 0.07122786,\n",
       "        0.31074589, 0.17445941, 0.23199684, 0.65231488]),\n",
       " 'mean_score_time': array([0.17781329, 0.26605992, 0.36628914, 0.21082516, 0.24560723,\n",
       "        0.3197197 , 0.19154553, 0.24969773, 0.37454143]),\n",
       " 'std_score_time': array([0.02065179, 0.03157403, 0.05655839, 0.08611143, 0.00731881,\n",
       "        0.00578287, 0.0281636 , 0.01023212, 0.05394673]),\n",
       " 'param_criterion': masked_array(data=['friedman_mse', 'friedman_mse', 'friedman_mse',\n",
       "                    'squared_error', 'squared_error', 'squared_error',\n",
       "                    'poisson', 'poisson', 'poisson'],\n",
       "              mask=[False, False, False, False, False, False, False, False,\n",
       "                    False],\n",
       "        fill_value='?',\n",
       "             dtype=object),\n",
       " 'param_n_estimators': masked_array(data=[10, 15, 20, 10, 15, 20, 10, 15, 20],\n",
       "              mask=[False, False, False, False, False, False, False, False,\n",
       "                    False],\n",
       "        fill_value='?',\n",
       "             dtype=object),\n",
       " 'params': [{'criterion': 'friedman_mse', 'n_estimators': 10},\n",
       "  {'criterion': 'friedman_mse', 'n_estimators': 15},\n",
       "  {'criterion': 'friedman_mse', 'n_estimators': 20},\n",
       "  {'criterion': 'squared_error', 'n_estimators': 10},\n",
       "  {'criterion': 'squared_error', 'n_estimators': 15},\n",
       "  {'criterion': 'squared_error', 'n_estimators': 20},\n",
       "  {'criterion': 'poisson', 'n_estimators': 10},\n",
       "  {'criterion': 'poisson', 'n_estimators': 15},\n",
       "  {'criterion': 'poisson', 'n_estimators': 20}],\n",
       " 'split0_test_score': array([0.9614701 , 0.96230304, 0.96258627, 0.9618876 , 0.96228566,\n",
       "        0.9626096 , 0.96190395, 0.96255507, 0.96280992]),\n",
       " 'split1_test_score': array([0.9617402 , 0.96203256, 0.96228054, 0.96130675, 0.96178635,\n",
       "        0.96236188, 0.96157394, 0.96192255, 0.962407  ]),\n",
       " 'split2_test_score': array([0.96070872, 0.96154633, 0.96168807, 0.96074002, 0.96141204,\n",
       "        0.9615794 , 0.96105468, 0.96128786, 0.96159247]),\n",
       " 'split3_test_score': array([0.95997842, 0.96069353, 0.96092911, 0.96036494, 0.96073724,\n",
       "        0.96092341, 0.96036822, 0.96081577, 0.96113343]),\n",
       " 'split4_test_score': array([0.96137733, 0.96196183, 0.96259456, 0.96161177, 0.96193067,\n",
       "        0.96225616, 0.96149183, 0.9621995 , 0.96241734]),\n",
       " 'mean_test_score': array([0.96105495, 0.96170746, 0.96201571, 0.96118222, 0.96163039,\n",
       "        0.96194609, 0.96127852, 0.96175615, 0.96207203]),\n",
       " 'std_test_score': array([0.00063634, 0.00056198, 0.00063542, 0.00055876, 0.00052712,\n",
       "        0.00061475, 0.00052966, 0.00062708, 0.00061431]),\n",
       " 'rank_test_score': array([9, 5, 2, 8, 6, 3, 7, 4, 1])}"
      ]
     },
     "execution_count": 53,
     "metadata": {},
     "output_type": "execute_result"
    }
   ],
   "source": [
    "reg.fit(X_train,y_train)\n",
    "reg.cv_results_"
   ]
  },
  {
   "cell_type": "code",
   "execution_count": 54,
   "id": "95154aff",
   "metadata": {},
   "outputs": [],
   "source": [
    "df1 = pd.DataFrame(reg.cv_results_)"
   ]
  },
  {
   "cell_type": "code",
   "execution_count": 55,
   "id": "862cadad",
   "metadata": {},
   "outputs": [
    {
     "data": {
      "text/html": [
       "<div>\n",
       "<style scoped>\n",
       "    .dataframe tbody tr th:only-of-type {\n",
       "        vertical-align: middle;\n",
       "    }\n",
       "\n",
       "    .dataframe tbody tr th {\n",
       "        vertical-align: top;\n",
       "    }\n",
       "\n",
       "    .dataframe thead th {\n",
       "        text-align: right;\n",
       "    }\n",
       "</style>\n",
       "<table border=\"1\" class=\"dataframe\">\n",
       "  <thead>\n",
       "    <tr style=\"text-align: right;\">\n",
       "      <th></th>\n",
       "      <th>mean_fit_time</th>\n",
       "      <th>std_fit_time</th>\n",
       "      <th>mean_score_time</th>\n",
       "      <th>std_score_time</th>\n",
       "      <th>param_criterion</th>\n",
       "      <th>param_n_estimators</th>\n",
       "      <th>params</th>\n",
       "      <th>split0_test_score</th>\n",
       "      <th>split1_test_score</th>\n",
       "      <th>split2_test_score</th>\n",
       "      <th>split3_test_score</th>\n",
       "      <th>split4_test_score</th>\n",
       "      <th>mean_test_score</th>\n",
       "      <th>std_test_score</th>\n",
       "      <th>rank_test_score</th>\n",
       "    </tr>\n",
       "  </thead>\n",
       "  <tbody>\n",
       "    <tr>\n",
       "      <th>0</th>\n",
       "      <td>5.227883</td>\n",
       "      <td>0.223287</td>\n",
       "      <td>0.177813</td>\n",
       "      <td>0.020652</td>\n",
       "      <td>friedman_mse</td>\n",
       "      <td>10</td>\n",
       "      <td>{'criterion': 'friedman_mse', 'n_estimators': 10}</td>\n",
       "      <td>0.961470</td>\n",
       "      <td>0.961740</td>\n",
       "      <td>0.960709</td>\n",
       "      <td>0.959978</td>\n",
       "      <td>0.961377</td>\n",
       "      <td>0.961055</td>\n",
       "      <td>0.000636</td>\n",
       "      <td>9</td>\n",
       "    </tr>\n",
       "    <tr>\n",
       "      <th>1</th>\n",
       "      <td>7.614685</td>\n",
       "      <td>0.688233</td>\n",
       "      <td>0.266060</td>\n",
       "      <td>0.031574</td>\n",
       "      <td>friedman_mse</td>\n",
       "      <td>15</td>\n",
       "      <td>{'criterion': 'friedman_mse', 'n_estimators': 15}</td>\n",
       "      <td>0.962303</td>\n",
       "      <td>0.962033</td>\n",
       "      <td>0.961546</td>\n",
       "      <td>0.960694</td>\n",
       "      <td>0.961962</td>\n",
       "      <td>0.961707</td>\n",
       "      <td>0.000562</td>\n",
       "      <td>5</td>\n",
       "    </tr>\n",
       "    <tr>\n",
       "      <th>2</th>\n",
       "      <td>10.305153</td>\n",
       "      <td>1.135205</td>\n",
       "      <td>0.366289</td>\n",
       "      <td>0.056558</td>\n",
       "      <td>friedman_mse</td>\n",
       "      <td>20</td>\n",
       "      <td>{'criterion': 'friedman_mse', 'n_estimators': 20}</td>\n",
       "      <td>0.962586</td>\n",
       "      <td>0.962281</td>\n",
       "      <td>0.961688</td>\n",
       "      <td>0.960929</td>\n",
       "      <td>0.962595</td>\n",
       "      <td>0.962016</td>\n",
       "      <td>0.000635</td>\n",
       "      <td>2</td>\n",
       "    </tr>\n",
       "    <tr>\n",
       "      <th>3</th>\n",
       "      <td>4.938195</td>\n",
       "      <td>0.217169</td>\n",
       "      <td>0.210825</td>\n",
       "      <td>0.086111</td>\n",
       "      <td>squared_error</td>\n",
       "      <td>10</td>\n",
       "      <td>{'criterion': 'squared_error', 'n_estimators':...</td>\n",
       "      <td>0.961888</td>\n",
       "      <td>0.961307</td>\n",
       "      <td>0.960740</td>\n",
       "      <td>0.960365</td>\n",
       "      <td>0.961612</td>\n",
       "      <td>0.961182</td>\n",
       "      <td>0.000559</td>\n",
       "      <td>8</td>\n",
       "    </tr>\n",
       "    <tr>\n",
       "      <th>4</th>\n",
       "      <td>6.875597</td>\n",
       "      <td>0.071228</td>\n",
       "      <td>0.245607</td>\n",
       "      <td>0.007319</td>\n",
       "      <td>squared_error</td>\n",
       "      <td>15</td>\n",
       "      <td>{'criterion': 'squared_error', 'n_estimators':...</td>\n",
       "      <td>0.962286</td>\n",
       "      <td>0.961786</td>\n",
       "      <td>0.961412</td>\n",
       "      <td>0.960737</td>\n",
       "      <td>0.961931</td>\n",
       "      <td>0.961630</td>\n",
       "      <td>0.000527</td>\n",
       "      <td>6</td>\n",
       "    </tr>\n",
       "    <tr>\n",
       "      <th>5</th>\n",
       "      <td>9.582048</td>\n",
       "      <td>0.310746</td>\n",
       "      <td>0.319720</td>\n",
       "      <td>0.005783</td>\n",
       "      <td>squared_error</td>\n",
       "      <td>20</td>\n",
       "      <td>{'criterion': 'squared_error', 'n_estimators':...</td>\n",
       "      <td>0.962610</td>\n",
       "      <td>0.962362</td>\n",
       "      <td>0.961579</td>\n",
       "      <td>0.960923</td>\n",
       "      <td>0.962256</td>\n",
       "      <td>0.961946</td>\n",
       "      <td>0.000615</td>\n",
       "      <td>3</td>\n",
       "    </tr>\n",
       "    <tr>\n",
       "      <th>6</th>\n",
       "      <td>6.174224</td>\n",
       "      <td>0.174459</td>\n",
       "      <td>0.191546</td>\n",
       "      <td>0.028164</td>\n",
       "      <td>poisson</td>\n",
       "      <td>10</td>\n",
       "      <td>{'criterion': 'poisson', 'n_estimators': 10}</td>\n",
       "      <td>0.961904</td>\n",
       "      <td>0.961574</td>\n",
       "      <td>0.961055</td>\n",
       "      <td>0.960368</td>\n",
       "      <td>0.961492</td>\n",
       "      <td>0.961279</td>\n",
       "      <td>0.000530</td>\n",
       "      <td>7</td>\n",
       "    </tr>\n",
       "    <tr>\n",
       "      <th>7</th>\n",
       "      <td>8.317851</td>\n",
       "      <td>0.231997</td>\n",
       "      <td>0.249698</td>\n",
       "      <td>0.010232</td>\n",
       "      <td>poisson</td>\n",
       "      <td>15</td>\n",
       "      <td>{'criterion': 'poisson', 'n_estimators': 15}</td>\n",
       "      <td>0.962555</td>\n",
       "      <td>0.961923</td>\n",
       "      <td>0.961288</td>\n",
       "      <td>0.960816</td>\n",
       "      <td>0.962199</td>\n",
       "      <td>0.961756</td>\n",
       "      <td>0.000627</td>\n",
       "      <td>4</td>\n",
       "    </tr>\n",
       "    <tr>\n",
       "      <th>8</th>\n",
       "      <td>12.422744</td>\n",
       "      <td>0.652315</td>\n",
       "      <td>0.374541</td>\n",
       "      <td>0.053947</td>\n",
       "      <td>poisson</td>\n",
       "      <td>20</td>\n",
       "      <td>{'criterion': 'poisson', 'n_estimators': 20}</td>\n",
       "      <td>0.962810</td>\n",
       "      <td>0.962407</td>\n",
       "      <td>0.961592</td>\n",
       "      <td>0.961133</td>\n",
       "      <td>0.962417</td>\n",
       "      <td>0.962072</td>\n",
       "      <td>0.000614</td>\n",
       "      <td>1</td>\n",
       "    </tr>\n",
       "  </tbody>\n",
       "</table>\n",
       "</div>"
      ],
      "text/plain": [
       "   mean_fit_time  std_fit_time  mean_score_time  std_score_time  \\\n",
       "0       5.227883      0.223287         0.177813        0.020652   \n",
       "1       7.614685      0.688233         0.266060        0.031574   \n",
       "2      10.305153      1.135205         0.366289        0.056558   \n",
       "3       4.938195      0.217169         0.210825        0.086111   \n",
       "4       6.875597      0.071228         0.245607        0.007319   \n",
       "5       9.582048      0.310746         0.319720        0.005783   \n",
       "6       6.174224      0.174459         0.191546        0.028164   \n",
       "7       8.317851      0.231997         0.249698        0.010232   \n",
       "8      12.422744      0.652315         0.374541        0.053947   \n",
       "\n",
       "  param_criterion param_n_estimators  \\\n",
       "0    friedman_mse                 10   \n",
       "1    friedman_mse                 15   \n",
       "2    friedman_mse                 20   \n",
       "3   squared_error                 10   \n",
       "4   squared_error                 15   \n",
       "5   squared_error                 20   \n",
       "6         poisson                 10   \n",
       "7         poisson                 15   \n",
       "8         poisson                 20   \n",
       "\n",
       "                                              params  split0_test_score  \\\n",
       "0  {'criterion': 'friedman_mse', 'n_estimators': 10}           0.961470   \n",
       "1  {'criterion': 'friedman_mse', 'n_estimators': 15}           0.962303   \n",
       "2  {'criterion': 'friedman_mse', 'n_estimators': 20}           0.962586   \n",
       "3  {'criterion': 'squared_error', 'n_estimators':...           0.961888   \n",
       "4  {'criterion': 'squared_error', 'n_estimators':...           0.962286   \n",
       "5  {'criterion': 'squared_error', 'n_estimators':...           0.962610   \n",
       "6       {'criterion': 'poisson', 'n_estimators': 10}           0.961904   \n",
       "7       {'criterion': 'poisson', 'n_estimators': 15}           0.962555   \n",
       "8       {'criterion': 'poisson', 'n_estimators': 20}           0.962810   \n",
       "\n",
       "   split1_test_score  split2_test_score  split3_test_score  split4_test_score  \\\n",
       "0           0.961740           0.960709           0.959978           0.961377   \n",
       "1           0.962033           0.961546           0.960694           0.961962   \n",
       "2           0.962281           0.961688           0.960929           0.962595   \n",
       "3           0.961307           0.960740           0.960365           0.961612   \n",
       "4           0.961786           0.961412           0.960737           0.961931   \n",
       "5           0.962362           0.961579           0.960923           0.962256   \n",
       "6           0.961574           0.961055           0.960368           0.961492   \n",
       "7           0.961923           0.961288           0.960816           0.962199   \n",
       "8           0.962407           0.961592           0.961133           0.962417   \n",
       "\n",
       "   mean_test_score  std_test_score  rank_test_score  \n",
       "0         0.961055        0.000636                9  \n",
       "1         0.961707        0.000562                5  \n",
       "2         0.962016        0.000635                2  \n",
       "3         0.961182        0.000559                8  \n",
       "4         0.961630        0.000527                6  \n",
       "5         0.961946        0.000615                3  \n",
       "6         0.961279        0.000530                7  \n",
       "7         0.961756        0.000627                4  \n",
       "8         0.962072        0.000614                1  "
      ]
     },
     "execution_count": 55,
     "metadata": {},
     "output_type": "execute_result"
    }
   ],
   "source": [
    "df1"
   ]
  },
  {
   "cell_type": "code",
   "execution_count": 56,
   "id": "d7f28dc8",
   "metadata": {},
   "outputs": [],
   "source": [
    "model2 = RandomForestRegressor(n_estimators = 20,criterion = 'poisson')\n",
    "model2.fit(X_train,y_train)\n",
    "y_pred = model2.predict(X_test)"
   ]
  },
  {
   "cell_type": "code",
   "execution_count": 57,
   "id": "e0bb278a",
   "metadata": {},
   "outputs": [
    {
     "name": "stdout",
     "output_type": "stream",
     "text": [
      "0.9615553706091402\n"
     ]
    }
   ],
   "source": [
    "print(r2_score(y_test,y_pred))"
   ]
  },
  {
   "cell_type": "code",
   "execution_count": 58,
   "id": "793db710",
   "metadata": {},
   "outputs": [
    {
     "data": {
      "text/plain": [
       "array([['SpiceJet', 'Delhi', 'Morning', 'zero', 'Morning', 'Mumbai',\n",
       "        'Economy', '1']], dtype='<U11')"
      ]
     },
     "execution_count": 58,
     "metadata": {},
     "output_type": "execute_result"
    }
   ],
   "source": [
    "p = np.array([['SpiceJet','Delhi','Morning','zero','Morning','Mumbai','Economy',1]])\n",
    "p"
   ]
  },
  {
   "cell_type": "code",
   "execution_count": 59,
   "id": "6d6e080f",
   "metadata": {},
   "outputs": [
    {
     "name": "stderr",
     "output_type": "stream",
     "text": [
      "C:\\Users\\odhia\\AppData\\Local\\anaconda3\\lib\\site-packages\\sklearn\\base.py:420: UserWarning: X does not have valid feature names, but OrdinalEncoder was fitted with feature names\n",
      "  warnings.warn(\n"
     ]
    }
   ],
   "source": [
    "p = transformer.transform(p)"
   ]
  },
  {
   "cell_type": "code",
   "execution_count": 60,
   "id": "16a9f5d4",
   "metadata": {},
   "outputs": [
    {
     "name": "stdout",
     "output_type": "stream",
     "text": [
      "[4499.1]\n"
     ]
    }
   ],
   "source": [
    "print(model2.predict(p))"
   ]
  },
  {
   "cell_type": "code",
   "execution_count": 61,
   "id": "b9a2ffc9",
   "metadata": {},
   "outputs": [
    {
     "data": {
      "text/plain": [
       "['air_model.pkl']"
      ]
     },
     "execution_count": 61,
     "metadata": {},
     "output_type": "execute_result"
    }
   ],
   "source": [
    "import joblib\n",
    "joblib.dump(model2,'air_model.pkl')"
   ]
  },
  {
   "cell_type": "code",
   "execution_count": null,
   "id": "85a2431b",
   "metadata": {},
   "outputs": [],
   "source": []
  }
 ],
 "metadata": {
  "kernelspec": {
   "display_name": "Python 3 (ipykernel)",
   "language": "python",
   "name": "python3"
  },
  "language_info": {
   "codemirror_mode": {
    "name": "ipython",
    "version": 3
   },
   "file_extension": ".py",
   "mimetype": "text/x-python",
   "name": "python",
   "nbconvert_exporter": "python",
   "pygments_lexer": "ipython3",
   "version": "3.10.9"
  }
 },
 "nbformat": 4,
 "nbformat_minor": 5
}
